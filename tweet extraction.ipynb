{
 "cells": [
  {
   "cell_type": "code",
   "execution_count": 1,
   "id": "apparent-inclusion",
   "metadata": {},
   "outputs": [],
   "source": [
    "import tweepy as tw"
   ]
  },
  {
   "cell_type": "code",
   "execution_count": 2,
   "id": "published-installation",
   "metadata": {},
   "outputs": [],
   "source": [
    "consumer_key= '######################'\n",
    "consumer_secret= '######################################'\n",
    "access_token= '############################################'\n",
    "access_token_secret= '########################################'"
   ]
  },
  {
   "cell_type": "code",
   "execution_count": 3,
   "id": "complete-strike",
   "metadata": {},
   "outputs": [],
   "source": [
    "auth = tw.OAuthHandler(consumer_key, consumer_secret)\n",
    "auth.set_access_token(access_token, access_token_secret)\n",
    "api = tw.API(auth, wait_on_rate_limit=True)"
   ]
  },
  {
   "cell_type": "code",
   "execution_count": null,
   "id": "negative-impact",
   "metadata": {},
   "outputs": [],
   "source": [
    "tweets=tw.Cursor(api.search, \n",
    "                           q=\"#breastcancer\" or '#breastcancerawareness' or\n",
    "'#breastcancerawarenessmonth' or\n",
    "'#breastcancersurvivor' or\n",
    "'#breastcancerwarrior' or\n",
    "'#breastcancersup?ort' or\n",
    "'#bcsm' or\n",
    "'#cancerdemama' or\n",
    "'#metastaticbreastcancer'or\n",
    "'#mbs',since=\"XXXX-XX-XX-filter:retweets\",tweet_mode='extended' ).items()\n",
    "users_locs = [[tweet.user.geo_enabled,tweet.user.location,tweet.user.friends_count,tweet.user.description,tweet.user.verified,tweet.truncated,tweet.user.location,tweet.user,tweet.full_text, tweet.created_at, tweet.id_str, tweet.user.screen_name,tweet.retweet_count, tweet.favorite_count, tweet.lang, tweet.source, tweet.in_reply_to_status_id_str, tweet.in_reply_to_user_id_str, tweet.is_quote_status,tweet.favorite_count,tweet.user.name,tweet.user.followers_count,tweet.entities['urls'],tweet.user.url] for tweet in tweets]\n",
    "users_locs\n",
    "tweet_text = pd.DataFrame(users_locs,columns=['geo enabled','user location','user friend count','user description','user verified','truncated','user location','user api','Tweet Text', 'Tweet Datetime', 'Tweet Id', 'Twitter @ Name','Retweets', 'Favorites', 'Language', 'Source', 'Replied Tweet Id', 'Replied Tweet User Id Str', 'Quote Status Bool','favorite count','user name','followers count','url avl','user url'])\n",
    "tweet_text\n"
   ]
  },
  {
   "cell_type": "code",
   "execution_count": null,
   "id": "greatest-latex",
   "metadata": {},
   "outputs": [],
   "source": [
    "tweet_text.to_csv('xyz.csv', encoding='utf-8')\n"
   ]
  }
 ],
 "metadata": {
  "kernelspec": {
   "display_name": "Python 3",
   "language": "python",
   "name": "python3"
  },
  "language_info": {
   "codemirror_mode": {
    "name": "ipython",
    "version": 3
   },
   "file_extension": ".py",
   "mimetype": "text/x-python",
   "name": "python",
   "nbconvert_exporter": "python",
   "pygments_lexer": "ipython3",
   "version": "3.9.1"
  }
 },
 "nbformat": 4,
 "nbformat_minor": 5
}
