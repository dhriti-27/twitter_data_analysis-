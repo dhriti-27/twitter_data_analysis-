{
 "cells": [
  {
   "cell_type": "code",
   "execution_count": 1,
   "id": "serial-communist",
   "metadata": {},
   "outputs": [
    {
     "data": {
      "text/html": [
       "        <script type=\"text/javascript\">\n",
       "        window.PlotlyConfig = {MathJaxConfig: 'local'};\n",
       "        if (window.MathJax) {MathJax.Hub.Config({SVG: {font: \"STIX-Web\"}});}\n",
       "        if (typeof require !== 'undefined') {\n",
       "        require.undef(\"plotly\");\n",
       "        requirejs.config({\n",
       "            paths: {\n",
       "                'plotly': ['https://cdn.plot.ly/plotly-latest.min']\n",
       "            }\n",
       "        });\n",
       "        require(['plotly'], function(Plotly) {\n",
       "            window._Plotly = Plotly;\n",
       "        });\n",
       "        }\n",
       "        </script>\n",
       "        "
      ]
     },
     "metadata": {},
     "output_type": "display_data"
    }
   ],
   "source": [
    "import pandas as pd\n",
    "import seaborn as sns\n",
    "\n",
    "import matplotlib.pyplot as plt\n",
    "import numpy as np\n",
    "import re\n",
    "from plotly import __version__\n",
    "import cufflinks as cf\n",
    "%matplotlib inline\n",
    "cf.go_offline()\n",
    "import re\n",
    "from collections import Counter"
   ]
  },
  {
   "cell_type": "code",
   "execution_count": 3,
   "id": "national-cambridge",
   "metadata": {},
   "outputs": [],
   "source": [
    "df=pd.read_csv('data27.csv')"
   ]
  },
  {
   "cell_type": "code",
   "execution_count": 37,
   "id": "fresh-genome",
   "metadata": {},
   "outputs": [],
   "source": [
    "df1 = df[['geo enabled', 'user location']]\n",
    "subsetDataFrame = df1[df1['geo enabled'] == 'TRUE']\n",
    "location=subsetDataFrame['user location']\n",
    "location=list(location)"
   ]
  },
  {
   "cell_type": "code",
   "execution_count": 39,
   "id": "fewer-jewel",
   "metadata": {},
   "outputs": [],
   "source": [
    "loc=[]\n",
    "for i in location:\n",
    "    try:\n",
    "        if re.search(\",\",i):\n",
    "            k=(i.split(',')[1:]) \n",
    "            loc.append(k)\n",
    "    except:\n",
    "        loc.append(str(i))\n",
    "        "
   ]
  },
  {
   "cell_type": "code",
   "execution_count": 41,
   "id": "champion-third",
   "metadata": {},
   "outputs": [],
   "source": [
    "m=[]\n",
    "for i in loc:\n",
    "    for j in i:\n",
    "        m.append(j)"
   ]
  },
  {
   "cell_type": "code",
   "execution_count": 43,
   "id": "about-treasury",
   "metadata": {},
   "outputs": [],
   "source": [
    "n=pd.DataFrame(m,columns=['Country'])"
   ]
  },
  {
   "cell_type": "code",
   "execution_count": 45,
   "id": "everyday-hurricane",
   "metadata": {},
   "outputs": [],
   "source": [
    "m=n['Country']"
   ]
  },
  {
   "cell_type": "code",
   "execution_count": 58,
   "id": "organizational-midwest",
   "metadata": {},
   "outputs": [],
   "source": [
    "keys = b.keys()\n",
    "keys=list(keys)\n",
    "values = b.values()\n",
    "\n",
    "values=list(values)\n",
    "keys.remove('n')\n",
    "values.remove(942)\n",
    "keys=keys[:15]\n",
    "values=values[:15]"
   ]
  },
  {
   "cell_type": "code",
   "execution_count": 59,
   "id": "delayed-blank",
   "metadata": {},
   "outputs": [
    {
     "data": {
      "text/plain": [
       "[]"
      ]
     },
     "execution_count": 59,
     "metadata": {},
     "output_type": "execute_result"
    },
    {
     "data": {
      "image/png": "[encoded data removed]",
      "text/plain": [
       "<Figure size 432x288 with 1 Axes>"
      ]
     },
     "metadata": {},
     "output_type": "display_data"
    }
   ],
   "source": [
    "import matplotlib.pyplot as plt\n",
    "figureObject, axesObject = plt.subplots()\n",
    "axesObject.pie(values,\n",
    "\n",
    "        labels=keys,\n",
    "\n",
    "        autopct='%1.2f',\n",
    "\n",
    "        startangle=90)\n",
    "plt.plot()"
   ]
  },
  {
   "cell_type": "code",
   "execution_count": 70,
   "id": "opening-sport",
   "metadata": {},
   "outputs": [],
   "source": [
    "import pandas as pd\n",
    "\n",
    "myDict = b\n",
    "df = pd.DataFrame()\n",
    "df['Date'] = myDict.keys()\n",
    "df['DateValue'] = myDict.values()"
   ]
  },
  {
   "cell_type": "code",
   "execution_count": 73,
   "id": "wrong-thanksgiving",
   "metadata": {},
   "outputs": [],
   "source": [
    "df.to_csv('area.csv')"
   ]
  },
  {
   "cell_type": "code",
   "execution_count": 74,
   "id": "increased-trial",
   "metadata": {},
   "outputs": [
    {
     "data": {
      "text/html": [
       "<div>\n",
       "<style scoped>\n",
       "    .dataframe tbody tr th:only-of-type {\n",
       "        vertical-align: middle;\n",
       "    }\n",
       "\n",
       "    .dataframe tbody tr th {\n",
       "        vertical-align: top;\n",
       "    }\n",
       "\n",
       "    .dataframe thead th {\n",
       "        text-align: right;\n",
       "    }\n",
       "</style>\n",
       "<table border=\"1\" class=\"dataframe\">\n",
       "  <thead>\n",
       "    <tr style=\"text-align: right;\">\n",
       "      <th></th>\n",
       "      <th>Date</th>\n",
       "      <th>DateValue</th>\n",
       "    </tr>\n",
       "  </thead>\n",
       "  <tbody>\n",
       "    <tr>\n",
       "      <th>0</th>\n",
       "      <td>NY</td>\n",
       "      <td>142</td>\n",
       "    </tr>\n",
       "    <tr>\n",
       "      <th>1</th>\n",
       "      <td>MI</td>\n",
       "      <td>28</td>\n",
       "    </tr>\n",
       "    <tr>\n",
       "      <th>2</th>\n",
       "      <td>n</td>\n",
       "      <td>942</td>\n",
       "    </tr>\n",
       "    <tr>\n",
       "      <th>3</th>\n",
       "      <td>a</td>\n",
       "      <td>471</td>\n",
       "    </tr>\n",
       "    <tr>\n",
       "      <th>4</th>\n",
       "      <td>U.S.</td>\n",
       "      <td>41</td>\n",
       "    </tr>\n",
       "    <tr>\n",
       "      <th>...</th>\n",
       "      <td>...</td>\n",
       "      <td>...</td>\n",
       "    </tr>\n",
       "    <tr>\n",
       "      <th>284</th>\n",
       "      <td>Kebbi State</td>\n",
       "      <td>1</td>\n",
       "    </tr>\n",
       "    <tr>\n",
       "      <th>285</th>\n",
       "      <td>Cheshire</td>\n",
       "      <td>1</td>\n",
       "    </tr>\n",
       "    <tr>\n",
       "      <th>286</th>\n",
       "      <td>Hades</td>\n",
       "      <td>1</td>\n",
       "    </tr>\n",
       "    <tr>\n",
       "      <th>287</th>\n",
       "      <td>Mictlan</td>\n",
       "      <td>1</td>\n",
       "    </tr>\n",
       "    <tr>\n",
       "      <th>288</th>\n",
       "      <td>Tartarus</td>\n",
       "      <td>1</td>\n",
       "    </tr>\n",
       "  </tbody>\n",
       "</table>\n",
       "<p>289 rows × 2 columns</p>\n",
       "</div>"
      ],
      "text/plain": [
       "             Date  DateValue\n",
       "0              NY        142\n",
       "1              MI         28\n",
       "2               n        942\n",
       "3               a        471\n",
       "4            U.S.         41\n",
       "..            ...        ...\n",
       "284   Kebbi State          1\n",
       "285      Cheshire          1\n",
       "286         Hades          1\n",
       "287       Mictlan          1\n",
       "288      Tartarus          1\n",
       "\n",
       "[289 rows x 2 columns]"
      ]
     },
     "execution_count": 74,
     "metadata": {},
     "output_type": "execute_result"
    }
   ],
   "source": [
    "df"
   ]
  },
  {
   "cell_type": "code",
   "execution_count": null,
   "id": "bridal-coating",
   "metadata": {},
   "outputs": [],
   "source": []
  }
 ],
 "metadata": {
  "kernelspec": {
   "display_name": "Python 3",
   "language": "python",
   "name": "python3"
  },
  "language_info": {
   "codemirror_mode": {
    "name": "ipython",
    "version": 3
   },
   "file_extension": ".py",
   "mimetype": "text/x-python",
   "name": "python",
   "nbconvert_exporter": "python",
   "pygments_lexer": "ipython3",
   "version": "3.9.1"
  }
 },
 "nbformat": 4,
 "nbformat_minor": 5
}
