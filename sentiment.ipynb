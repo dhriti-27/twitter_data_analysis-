{
 "cells": [
  {
   "cell_type": "code",
   "execution_count": 2,
   "id": "animated-avenue",
   "metadata": {},
   "outputs": [],
   "source": [
    "import pandas as pd\n",
    "df=pd.read_csv('data27.csv')\n"
   ]
  },
  {
   "cell_type": "code",
   "execution_count": 4,
   "id": "surface-exhibit",
   "metadata": {},
   "outputs": [],
   "source": [
    "df=df['tweet']"
   ]
  },
  {
   "cell_type": "code",
   "execution_count": 32,
   "id": "finished-blame",
   "metadata": {},
   "outputs": [],
   "source": [
    "from textblob import TextBlob\n",
    "tweet=list(df)\n",
    "m=[]\n",
    "for j in tweet:\n",
    "    k=TextBlob(j)\n",
    "   \n",
    "    m.append(k.sentiment)  \n",
    "m=pd.DataFrame(m)\n",
    "m=m['polarity']\n",
    "l=[]\n",
    "for i in m:\n",
    "    if i<0:\n",
    "        l.append('negative')\n",
    "    elif i>0:\n",
    "         l.append('positive')\n",
    "    elif i==0:\n",
    "        l.append('neutral')\n",
    "s=pd.DataFrame(tweet)\n",
    "df = pd.DataFrame()\n",
    "#df['tweet'] = pd.Dataframe[tweet]\n",
    "s['polarity'] = pd.DataFrame(l)"
   ]
  },
  {
   "cell_type": "code",
   "execution_count": 35,
   "id": "nervous-assignment",
   "metadata": {},
   "outputs": [
    {
     "name": "stdout",
     "output_type": "stream",
     "text": [
      "Counter({'positive': 5474, 'neutral': 5364, 'negative': 981})\n"
     ]
    }
   ],
   "source": [
    "from collections import Counter\n",
    "b = Counter(l)\n",
    "\n",
    "print(b)"
   ]
  },
  {
   "cell_type": "code",
   "execution_count": 38,
   "id": "centered-knitting",
   "metadata": {},
   "outputs": [
    {
     "data": {
      "text/plain": [
       "[]"
      ]
     },
     "execution_count": 38,
     "metadata": {},
     "output_type": "execute_result"
    },
    {
     "data": {
      "image/png": "[encoded data removed]",
      "text/plain": [
       "<Figure size 432x288 with 1 Axes>"
      ]
     },
     "metadata": {},
     "output_type": "display_data"
    }
   ],
   "source": [
    "keys = b.keys()\n",
    "keys=list(keys)\n",
    "values = b.values()\n",
    "\n",
    "values=list(values)\n",
    "import matplotlib.pyplot as plt\n",
    "figureObject, axesObject = plt.subplots()\n",
    "axesObject.pie(values,\n",
    "\n",
    "        labels=keys,\n",
    "\n",
    "        autopct='%1.2f',\n",
    "\n",
    "        startangle=90)\n",
    "plt.plot()"
   ]
  },
  {
   "cell_type": "code",
   "execution_count": 39,
   "id": "surface-solomon",
   "metadata": {},
   "outputs": [
    {
     "data": {
      "text/html": [
       "<div>\n",
       "<style scoped>\n",
       "    .dataframe tbody tr th:only-of-type {\n",
       "        vertical-align: middle;\n",
       "    }\n",
       "\n",
       "    .dataframe tbody tr th {\n",
       "        vertical-align: top;\n",
       "    }\n",
       "\n",
       "    .dataframe thead th {\n",
       "        text-align: right;\n",
       "    }\n",
       "</style>\n",
       "<table border=\"1\" class=\"dataframe\">\n",
       "  <thead>\n",
       "    <tr style=\"text-align: right;\">\n",
       "      <th></th>\n",
       "      <th>0</th>\n",
       "      <th>polarity</th>\n",
       "    </tr>\n",
       "  </thead>\n",
       "  <tbody>\n",
       "    <tr>\n",
       "      <th>0</th>\n",
       "      <td>New Evidence Prolactin is Possible Target for ...</td>\n",
       "      <td>positive</td>\n",
       "    </tr>\n",
       "    <tr>\n",
       "      <th>1</th>\n",
       "      <td>Cannabis is often used to treat the symptoms a...</td>\n",
       "      <td>positive</td>\n",
       "    </tr>\n",
       "    <tr>\n",
       "      <th>2</th>\n",
       "      <td>@forgrace founder Cynthia Toussaint joined Ste...</td>\n",
       "      <td>neutral</td>\n",
       "    </tr>\n",
       "    <tr>\n",
       "      <th>3</th>\n",
       "      <td>Hi, I'm NED.  Nice to meet you!\\nOne week afte...</td>\n",
       "      <td>positive</td>\n",
       "    </tr>\n",
       "    <tr>\n",
       "      <th>4</th>\n",
       "      <td>5 facts/fictions about #breastcancer. https://...</td>\n",
       "      <td>neutral</td>\n",
       "    </tr>\n",
       "  </tbody>\n",
       "</table>\n",
       "</div>"
      ],
      "text/plain": [
       "                                                   0  polarity\n",
       "0  New Evidence Prolactin is Possible Target for ...  positive\n",
       "1  Cannabis is often used to treat the symptoms a...  positive\n",
       "2  @forgrace founder Cynthia Toussaint joined Ste...   neutral\n",
       "3  Hi, I'm NED.  Nice to meet you!\\nOne week afte...  positive\n",
       "4  5 facts/fictions about #breastcancer. https://...   neutral"
      ]
     },
     "execution_count": 39,
     "metadata": {},
     "output_type": "execute_result"
    }
   ],
   "source": [
    "s.head()"
   ]
  },
  {
   "cell_type": "code",
   "execution_count": null,
   "id": "ancient-trademark",
   "metadata": {},
   "outputs": [],
   "source": [
    "s.to_csv('sen.csv')"
   ]
  }
 ],
 "metadata": {
  "kernelspec": {
   "display_name": "Python 3",
   "language": "python",
   "name": "python3"
  },
  "language_info": {
   "codemirror_mode": {
    "name": "ipython",
    "version": 3
   },
   "file_extension": ".py",
   "mimetype": "text/x-python",
   "name": "python",
   "nbconvert_exporter": "python",
   "pygments_lexer": "ipython3",
   "version": "3.9.1"
  }
 },
 "nbformat": 4,
 "nbformat_minor": 5
}
