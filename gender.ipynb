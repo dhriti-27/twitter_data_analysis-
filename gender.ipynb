{
 "cells": [
  {
   "cell_type": "code",
   "execution_count": 1,
   "id": "boring-information",
   "metadata": {},
   "outputs": [],
   "source": [
    "import gender_guesser.detector as gender\n",
    "from collections import Counter"
   ]
  },
  {
   "cell_type": "code",
   "execution_count": 2,
   "id": "bound-delta",
   "metadata": {},
   "outputs": [],
   "source": [
    "d = gender.Detector()"
   ]
  },
  {
   "cell_type": "code",
   "execution_count": 3,
   "id": "unnecessary-farmer",
   "metadata": {},
   "outputs": [],
   "source": [
    "import pandas as pd"
   ]
  },
  {
   "cell_type": "code",
   "execution_count": 60,
   "id": "postal-cheese",
   "metadata": {},
   "outputs": [],
   "source": [
    "df=pd.read_csv('data27.csv')\n"
   ]
  },
  {
   "cell_type": "code",
   "execution_count": 61,
   "id": "dated-willow",
   "metadata": {},
   "outputs": [],
   "source": [
    "name=list(df['user name'])\n"
   ]
  },
  {
   "cell_type": "code",
   "execution_count": 6,
   "id": "joined-ladder",
   "metadata": {},
   "outputs": [],
   "source": [
    "gen=[]\n",
    "for i in name:\n",
    "    gen.append(d.get_gender(i))"
   ]
  },
  {
   "cell_type": "code",
   "execution_count": 32,
   "id": "optical-wilderness",
   "metadata": {},
   "outputs": [],
   "source": [
    "keys = b.keys()\n",
    "keys=list(keys)\n",
    "values = b.values()\n",
    "values=list(values)"
   ]
  },
  {
   "cell_type": "code",
   "execution_count": 10,
   "id": "closed-dakota",
   "metadata": {},
   "outputs": [],
   "source": [
    "import matplotlib.pyplot as plt"
   ]
  },
  {
   "cell_type": "code",
   "execution_count": 29,
   "id": "recent-porter",
   "metadata": {},
   "outputs": [
    {
     "data": {
      "text/plain": [
       "list"
      ]
     },
     "execution_count": 29,
     "metadata": {},
     "output_type": "execute_result"
    }
   ],
   "source": [
    "type(keys)"
   ]
  },
  {
   "cell_type": "code",
   "execution_count": 56,
   "id": "numerical-praise",
   "metadata": {},
   "outputs": [
    {
     "data": {
      "text/plain": [
       "['male', 'female', 'undefined']"
      ]
     },
     "execution_count": 56,
     "metadata": {},
     "output_type": "execute_result"
    }
   ],
   "source": [
    "#keys.remove('unknown')\n",
    "#keys.remove('andy')\n",
    "#keys.remove('mostly_female')\n",
    "keys.remove('undefined')\n",
    "#keys.append('undefined')\n",
    "keys"
   ]
  },
  {
   "cell_type": "code",
   "execution_count": 50,
   "id": "suffering-record",
   "metadata": {},
   "outputs": [],
   "source": [
    "#values.remove(11593)\n",
    "values.remove(4)\n",
    "values.remove(11)\n",
    "values.remove(22)"
   ]
  },
  {
   "cell_type": "code",
   "execution_count": 57,
   "id": "sitting-fraud",
   "metadata": {},
   "outputs": [],
   "source": [
    "values.append(37)"
   ]
  },
  {
   "cell_type": "code",
   "execution_count": 58,
   "id": "dynamic-italic",
   "metadata": {},
   "outputs": [
    {
     "data": {
      "text/plain": [
       "[59, 130, 37]"
      ]
     },
     "execution_count": 58,
     "metadata": {},
     "output_type": "execute_result"
    }
   ],
   "source": [
    "values"
   ]
  },
  {
   "cell_type": "code",
   "execution_count": 59,
   "id": "individual-settlement",
   "metadata": {},
   "outputs": [
    {
     "data": {
      "text/plain": [
       "[]"
      ]
     },
     "execution_count": 59,
     "metadata": {},
     "output_type": "execute_result"
    },
    {
     "data": {
      "image/png": "[encoded data removed]",
      "text/plain": [
       "<Figure size 432x288 with 1 Axes>"
      ]
     },
     "metadata": {},
     "output_type": "display_data"
    }
   ],
   "source": [
    "figureObject, axesObject = plt.subplots()\n",
    "axesObject.pie(values,\n",
    "\n",
    "        labels=keys,\n",
    "\n",
    "        autopct='%1.2f',\n",
    "\n",
    "        startangle=90)\n",
    "plt.plot()"
   ]
  }
 ],
 "metadata": {
  "kernelspec": {
   "display_name": "Python 3",
   "language": "python",
   "name": "python3"
  },
  "language_info": {
   "codemirror_mode": {
    "name": "ipython",
    "version": 3
   },
   "file_extension": ".py",
   "mimetype": "text/x-python",
   "name": "python",
   "nbconvert_exporter": "python",
   "pygments_lexer": "ipython3",
   "version": "3.9.1"
  }
 },
 "nbformat": 4,
 "nbformat_minor": 5
}
